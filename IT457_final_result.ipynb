{
  "nbformat": 4,
  "nbformat_minor": 0,
  "metadata": {
    "colab": {
      "provenance": []
    },
    "kernelspec": {
      "name": "python3",
      "display_name": "Python 3"
    },
    "language_info": {
      "name": "python"
    }
  },
  "cells": [
    {
      "cell_type": "code",
      "source": [
        "!pip install word2number"
      ],
      "metadata": {
        "colab": {
          "base_uri": "https://localhost:8080/"
        },
        "id": "0aNM9cAy6LVV",
        "outputId": "f920f239-faf7-4582-d304-641fc11be2a6"
      },
      "execution_count": null,
      "outputs": [
        {
          "output_type": "stream",
          "name": "stdout",
          "text": [
            "Collecting word2number\n",
            "  Downloading word2number-1.1.zip (9.7 kB)\n",
            "  Preparing metadata (setup.py) ... \u001b[?25l\u001b[?25hdone\n",
            "Building wheels for collected packages: word2number\n",
            "  Building wheel for word2number (setup.py) ... \u001b[?25l\u001b[?25hdone\n",
            "  Created wheel for word2number: filename=word2number-1.1-py3-none-any.whl size=5568 sha256=034af0bd929644cd8be142c7e78b1e8abdb6f9aad5837f52d25a82dc713353a0\n",
            "  Stored in directory: /root/.cache/pip/wheels/84/ff/26/d3cfbd971e96c5aa3737ecfced81628830d7359b55fbb8ca3b\n",
            "Successfully built word2number\n",
            "Installing collected packages: word2number\n",
            "Successfully installed word2number-1.1\n"
          ]
        }
      ]
    },
    {
      "cell_type": "code",
      "source": [
        "import joblib\n",
        "import numpy as np\n",
        "import torch\n",
        "from transformers import BertTokenizer, BertModel\n",
        "from word2number import w2n\n",
        "import spacy"
      ],
      "metadata": {
        "id": "piAAjSzO8BC1"
      },
      "execution_count": null,
      "outputs": []
    },
    {
      "cell_type": "code",
      "source": [
        "loaded_data = joblib.load('sentiment_model.pkl')\n",
        "model = loaded_data['model']\n",
        "tokenizer = loaded_data['tokenizer']\n",
        "bert_model = loaded_data['bert_model']\n",
        "max_len = loaded_data['max_len']"
      ],
      "metadata": {
        "id": "f94NK6vE8GPu"
      },
      "execution_count": 3,
      "outputs": []
    },
    {
      "cell_type": "code",
      "source": [
        "nlp = spacy.load(\"en_core_web_sm\")"
      ],
      "metadata": {
        "id": "1QT1-D6M8JR9"
      },
      "execution_count": 4,
      "outputs": []
    },
    {
      "cell_type": "code",
      "source": [
        "def preprocess_text(text):\n",
        "    doc = nlp(text.lower())\n",
        "    tokens = [token.lemma_ for token in doc if not token.is_stop and not token.is_punct]\n",
        "    return ' '.join(tokens)"
      ],
      "metadata": {
        "id": "rZKCzZuL8Mgu"
      },
      "execution_count": 5,
      "outputs": []
    },
    {
      "cell_type": "code",
      "source": [
        "def get_bert_embeddings(sentences, tokenizer, model):\n",
        "    inputs = tokenizer(sentences, return_tensors='pt', padding=True, truncation=True, max_length=50)\n",
        "    with torch.no_grad():\n",
        "        outputs = model(**inputs)\n",
        "    return outputs.last_hidden_state[:, 0, :].numpy()"
      ],
      "metadata": {
        "id": "RW6ZXj368RKI"
      },
      "execution_count": 6,
      "outputs": []
    },
    {
      "cell_type": "code",
      "source": [
        "def parse_numerical_info(sentence):\n",
        "    doc = nlp(sentence)\n",
        "    numerical_info = []\n",
        "    for token in doc:\n",
        "        if token.like_num:\n",
        "            try:\n",
        "                num = w2n.word_to_num(token.text)\n",
        "                numerical_info.append(num)\n",
        "            except ValueError:\n",
        "                continue\n",
        "    return np.array(numerical_info) if numerical_info else np.zeros(3)"
      ],
      "metadata": {
        "id": "7dhjEj7a8ZSV"
      },
      "execution_count": 7,
      "outputs": []
    },
    {
      "cell_type": "code",
      "source": [
        "def combine_features(bert_embedding, numerical_values, aspect):\n",
        "    if len(numerical_values) < 3:\n",
        "        numerical_values = np.pad(numerical_values, (0, 3 - len(numerical_values)), 'constant')\n",
        "    aspect_embedding = get_bert_embeddings([aspect], tokenizer, bert_model).flatten()\n",
        "    combined = np.concatenate([bert_embedding, numerical_values, aspect_embedding])\n",
        "    combined = combined[:max_len]\n",
        "    if len(combined) < max_len:\n",
        "        combined = np.pad(combined, (0, max_len - len(combined)), 'constant')\n",
        "    return combined\n",
        "\n",
        "def predict_sentiment(sentences, aspects):\n",
        "    features = []\n",
        "    for sentence, aspect in zip(sentences, aspects):\n",
        "        preprocessed_sentence = preprocess_text(sentence)\n",
        "        bert_embedding = get_bert_embeddings([preprocessed_sentence], tokenizer, bert_model).flatten()\n",
        "        numerical_info = parse_numerical_info(preprocessed_sentence)\n",
        "        combined_features = combine_features(bert_embedding, numerical_info, aspect)\n",
        "        features.append(combined_features)\n",
        "    features = np.vstack(features)\n",
        "    predictions = model.predict(features).flatten()\n",
        "    return predictions"
      ],
      "metadata": {
        "id": "YdtUWZls8uJz"
      },
      "execution_count": 8,
      "outputs": []
    },
    {
      "cell_type": "code",
      "source": [
        "sentences = [\"Stakes High for AstraZeneca Heart Drug Facing Tough Competition\",\n",
        "             \"CBI books Adani Enterprises, 3 ex-NCCF officials for alleged irregularities in coal supply contract\",\n",
        "             \"AstraZeneca shares climb 3% as drug maker ups profits forecasts\"]\n",
        "\n",
        "aspects = [\"AstraZeneca\",\"Adani Enterprises\",\"AstraZeneca\"]\n",
        "\n",
        "predicted_scores = predict_sentiment(sentences, aspects)\n",
        "for i, score in enumerate(predicted_scores):\n",
        "    print(f\"Sentence: {sentences[i]}\")\n",
        "    print(f\"Aspect: {aspects[i]}\")\n",
        "    print(f\"Predicted Sentiment Score: {score}\")\n",
        "    print()"
      ],
      "metadata": {
        "colab": {
          "base_uri": "https://localhost:8080/"
        },
        "id": "dTWXy-yi6G5D",
        "outputId": "acdc9928-8d3e-42ff-c90c-cf2c70ce376c"
      },
      "execution_count": 16,
      "outputs": [
        {
          "output_type": "stream",
          "name": "stdout",
          "text": [
            "\u001b[1m1/1\u001b[0m \u001b[32m━━━━━━━━━━━━━━━━━━━━\u001b[0m\u001b[37m\u001b[0m \u001b[1m0s\u001b[0m 22ms/step\n",
            "Sentence: Stakes High for AstraZeneca Heart Drug Facing Tough Competition\n",
            "Aspect: AstraZeneca\n",
            "Predicted Sentiment Score: -0.3016662299633026\n",
            "\n",
            "Sentence: CBI books Adani Enterprises, 3 ex-NCCF officials for alleged irregularities in coal supply contract\n",
            "Aspect: Adani Enterprises\n",
            "Predicted Sentiment Score: -0.3093346953392029\n",
            "\n",
            "Sentence: AstraZeneca shares climb 3% as drug maker ups profits forecasts\n",
            "Aspect: AstraZeneca\n",
            "Predicted Sentiment Score: 0.22861944139003754\n",
            "\n"
          ]
        }
      ]
    },
    {
      "cell_type": "code",
      "source": [],
      "metadata": {
        "id": "FnI0EoH083NT"
      },
      "execution_count": null,
      "outputs": []
    }
  ]
}