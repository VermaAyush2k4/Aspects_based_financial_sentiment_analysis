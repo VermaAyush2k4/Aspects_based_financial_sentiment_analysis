{
  "cells": [
    {
      "cell_type": "code",
      "execution_count": null,
      "metadata": {
        "colab": {
          "base_uri": "https://localhost:8080/"
        },
        "id": "L6kB9PCXMwZx",
        "outputId": "84d0cbbf-35db-4946-8b97-70d0f64bf0af"
      },
      "outputs": [
        {
          "name": "stdout",
          "output_type": "stream",
          "text": [
            "Requirement already satisfied: word2number in /usr/local/lib/python3.10/dist-packages (1.1)\n"
          ]
        }
      ],
      "source": [
        "!pip install word2number"
      ]
    },
    {
      "cell_type": "code",
      "execution_count": null,
      "metadata": {
        "colab": {
          "base_uri": "https://localhost:8080/"
        },
        "id": "qyf-QDD5lIIK",
        "outputId": "305a1b5b-c996-45f3-a284-077eea809fbd"
      },
      "outputs": [
        {
          "name": "stdout",
          "output_type": "stream",
          "text": [
            "Drive already mounted at /content/drive; to attempt to forcibly remount, call drive.mount(\"/content/drive\", force_remount=True).\n"
          ]
        }
      ],
      "source": [
        "from google.colab import drive\n",
        "drive.mount('/content/drive')"
      ]
    },
    {
      "cell_type": "code",
      "execution_count": null,
      "metadata": {
        "colab": {
          "base_uri": "https://localhost:8080/"
        },
        "id": "KJM3wtgqlJsJ",
        "outputId": "4b5853a5-6ae8-443c-94d7-827397c2db42"
      },
      "outputs": [
        {
          "name": "stdout",
          "output_type": "stream",
          "text": [
            "/content/drive/MyDrive/IT457_Final_Project\n"
          ]
        }
      ],
      "source": [
        "%cd /content/drive/MyDrive/IT457_Final_Project"
      ]
    },
    {
      "cell_type": "code",
      "execution_count": null,
      "metadata": {
        "colab": {
          "base_uri": "https://localhost:8080/"
        },
        "id": "tatmxDdnlWej",
        "outputId": "ad9c8b6b-0332-4304-de0e-946b3885684e"
      },
      "outputs": [
        {
          "name": "stdout",
          "output_type": "stream",
          "text": [
            "Requirement already satisfied: scikit-learn==1.2.2 in /usr/local/lib/python3.10/dist-packages (1.2.2)\n",
            "Requirement already satisfied: numpy>=1.17.3 in /usr/local/lib/python3.10/dist-packages (from scikit-learn==1.2.2) (1.26.4)\n",
            "Requirement already satisfied: scipy>=1.3.2 in /usr/local/lib/python3.10/dist-packages (from scikit-learn==1.2.2) (1.13.1)\n",
            "Requirement already satisfied: joblib>=1.1.1 in /usr/local/lib/python3.10/dist-packages (from scikit-learn==1.2.2) (1.4.2)\n",
            "Requirement already satisfied: threadpoolctl>=2.0.0 in /usr/local/lib/python3.10/dist-packages (from scikit-learn==1.2.2) (3.5.0)\n"
          ]
        }
      ],
      "source": [
        "!pip install scikit-learn==1.2.2"
      ]
    },
    {
      "cell_type": "code",
      "execution_count": null,
      "metadata": {
        "colab": {
          "base_uri": "https://localhost:8080/",
          "height": 34
        },
        "id": "xqW_G0OYlYm-",
        "outputId": "e9c9e1e4-a4a1-41e5-de7d-b4a106e7c22e"
      },
      "outputs": [
        {
          "name": "stdout",
          "output_type": "stream",
          "text": [
            "https://lyvvzrzqhu-496ff2e9c6d22116-5000-colab.googleusercontent.com/\n"
          ]
        }
      ],
      "source": [
        "from google.colab.output import eval_js\n",
        "print(eval_js(\"google.colab.kernel.proxyPort(5000)\"))"
      ]
    },
    {
      "cell_type": "code",
      "execution_count": null,
      "metadata": {
        "colab": {
          "background_save": true,
          "base_uri": "https://localhost:8080/"
        },
        "id": "Zkx__T0_H2zU",
        "outputId": "bd9fb777-b09b-4923-e26c-91642ddfec88"
      },
      "outputs": [
        {
          "name": "stdout",
          "output_type": "stream",
          "text": [
            "2024-11-09 08:55:39.622753: E external/local_xla/xla/stream_executor/cuda/cuda_fft.cc:485] Unable to register cuFFT factory: Attempting to register factory for plugin cuFFT when one has already been registered\n",
            "2024-11-09 08:55:39.656185: E external/local_xla/xla/stream_executor/cuda/cuda_dnn.cc:8454] Unable to register cuDNN factory: Attempting to register factory for plugin cuDNN when one has already been registered\n",
            "2024-11-09 08:55:39.666293: E external/local_xla/xla/stream_executor/cuda/cuda_blas.cc:1452] Unable to register cuBLAS factory: Attempting to register factory for plugin cuBLAS when one has already been registered\n",
            "2024-11-09 08:55:39.695293: I tensorflow/core/platform/cpu_feature_guard.cc:210] This TensorFlow binary is optimized to use available CPU instructions in performance-critical operations.\n",
            "To enable the following instructions: AVX2 FMA, in other operations, rebuild TensorFlow with the appropriate compiler flags.\n",
            "2024-11-09 08:55:41.393354: W tensorflow/compiler/tf2tensorrt/utils/py_utils.cc:38] TF-TRT Warning: Could not find TensorRT\n",
            " * Serving Flask app 'app'\n",
            " * Debug mode: on\n",
            "\u001b[31m\u001b[1mWARNING: This is a development server. Do not use it in a production deployment. Use a production WSGI server instead.\u001b[0m\n",
            " * Running on all addresses (0.0.0.0)\n",
            " * Running on http://127.0.0.1:5000\n",
            " * Running on http://172.28.0.12:5000\n",
            "\u001b[33mPress CTRL+C to quit\u001b[0m\n",
            " * Restarting with stat\n",
            "2024-11-09 08:55:53.202349: E external/local_xla/xla/stream_executor/cuda/cuda_fft.cc:485] Unable to register cuFFT factory: Attempting to register factory for plugin cuFFT when one has already been registered\n",
            "2024-11-09 08:55:53.225730: E external/local_xla/xla/stream_executor/cuda/cuda_dnn.cc:8454] Unable to register cuDNN factory: Attempting to register factory for plugin cuDNN when one has already been registered\n",
            "2024-11-09 08:55:53.232944: E external/local_xla/xla/stream_executor/cuda/cuda_blas.cc:1452] Unable to register cuBLAS factory: Attempting to register factory for plugin cuBLAS when one has already been registered\n",
            "2024-11-09 08:55:54.555458: W tensorflow/compiler/tf2tensorrt/utils/py_utils.cc:38] TF-TRT Warning: Could not find TensorRT\n",
            " * Debugger is active!\n",
            " * Debugger PIN: 852-181-589\n",
            "127.0.0.1 - - [09/Nov/2024 08:56:00] \"GET /?authuser=0 HTTP/1.1\" 200 -\n",
            "127.0.0.1 - - [09/Nov/2024 08:56:01] \"GET /static/style.css?authuser=0 HTTP/1.1\" 200 -\n",
            "127.0.0.1 - - [09/Nov/2024 08:56:02] \"\u001b[33mGET /favicon.ico?authuser=0 HTTP/1.1\u001b[0m\" 404 -\n",
            "\u001b[1m1/1\u001b[0m \u001b[32m━━━━━━━━━━━━━━━━━━━━\u001b[0m\u001b[37m\u001b[0m \u001b[1m0s\u001b[0m 164ms/step\n",
            "127.0.0.1 - - [09/Nov/2024 08:56:11] \"POST /predict?authuser=0 HTTP/1.1\" 200 -\n",
            "127.0.0.1 - - [09/Nov/2024 08:56:38] \"GET /static/style.css?authuser=0 HTTP/1.1\" 200 -\n",
            "127.0.0.1 - - [09/Nov/2024 08:56:38] \"\u001b[33mGET /static/diabetes-favicon.ico?authuser=0 HTTP/1.1\u001b[0m\" 404 -\n",
            "127.0.0.1 - - [09/Nov/2024 08:56:38] \"\u001b[33mGET /static/diabetes-favicon.ico?authuser=0 HTTP/1.1\u001b[0m\" 404 -\n",
            "127.0.0.1 - - [09/Nov/2024 08:56:41] \"GET /?authuser=0 HTTP/1.1\" 200 -\n",
            "127.0.0.1 - - [09/Nov/2024 08:56:41] \"GET /static/style.css?authuser=0 HTTP/1.1\" 200 -\n",
            "127.0.0.1 - - [09/Nov/2024 08:56:41] \"\u001b[33mGET /favicon.ico?authuser=0 HTTP/1.1\u001b[0m\" 404 -\n",
            "\u001b[1m1/1\u001b[0m \u001b[32m━━━━━━━━━━━━━━━━━━━━\u001b[0m\u001b[37m\u001b[0m \u001b[1m0s\u001b[0m 21ms/step\n",
            "127.0.0.1 - - [09/Nov/2024 09:03:49] \"POST /predict?authuser=0 HTTP/1.1\" 200 -\n",
            "127.0.0.1 - - [09/Nov/2024 09:03:49] \"GET /static/style.css?authuser=0 HTTP/1.1\" 200 -\n",
            "127.0.0.1 - - [09/Nov/2024 09:03:54] \"\u001b[33mGET /static/diabetes-favicon.ico?authuser=0 HTTP/1.1\u001b[0m\" 404 -\n",
            "127.0.0.1 - - [09/Nov/2024 09:04:11] \"\u001b[33mGET /static/diabetes-favicon.ico?authuser=0 HTTP/1.1\u001b[0m\" 404 -\n",
            "127.0.0.1 - - [09/Nov/2024 09:04:13] \"GET /?authuser=0 HTTP/1.1\" 200 -\n",
            "127.0.0.1 - - [09/Nov/2024 09:04:14] \"GET /static/style.css?authuser=0 HTTP/1.1\" 200 -\n",
            "127.0.0.1 - - [09/Nov/2024 09:04:14] \"\u001b[33mGET /favicon.ico?authuser=0 HTTP/1.1\u001b[0m\" 404 -\n",
            "\u001b[1m1/1\u001b[0m \u001b[32m━━━━━━━━━━━━━━━━━━━━\u001b[0m\u001b[37m\u001b[0m \u001b[1m0s\u001b[0m 18ms/step\n",
            "127.0.0.1 - - [09/Nov/2024 09:04:49] \"POST /predict?authuser=0 HTTP/1.1\" 200 -\n",
            "127.0.0.1 - - [09/Nov/2024 09:04:49] \"GET /static/style.css?authuser=0 HTTP/1.1\" 200 -\n",
            "127.0.0.1 - - [09/Nov/2024 09:04:50] \"\u001b[33mGET /static/diabetes-favicon.ico?authuser=0 HTTP/1.1\u001b[0m\" 404 -\n",
            "127.0.0.1 - - [09/Nov/2024 09:04:50] \"\u001b[33mGET /static/diabetes-favicon.ico?authuser=0 HTTP/1.1\u001b[0m\" 404 -\n",
            "127.0.0.1 - - [09/Nov/2024 09:04:53] \"GET /?authuser=0 HTTP/1.1\" 200 -\n",
            "127.0.0.1 - - [09/Nov/2024 09:04:53] \"GET /static/style.css?authuser=0 HTTP/1.1\" 200 -\n",
            "127.0.0.1 - - [09/Nov/2024 09:04:53] \"\u001b[33mGET /favicon.ico?authuser=0 HTTP/1.1\u001b[0m\" 404 -\n",
            "\u001b[1m1/1\u001b[0m \u001b[32m━━━━━━━━━━━━━━━━━━━━\u001b[0m\u001b[37m\u001b[0m \u001b[1m0s\u001b[0m 25ms/step\n",
            "127.0.0.1 - - [09/Nov/2024 09:51:24] \"POST /predict?authuser=0 HTTP/1.1\" 200 -\n",
            "127.0.0.1 - - [09/Nov/2024 09:51:24] \"GET /static/style.css?authuser=0 HTTP/1.1\" 200 -\n",
            "127.0.0.1 - - [09/Nov/2024 09:51:26] \"\u001b[33mGET /static/diabetes-favicon.ico?authuser=0 HTTP/1.1\u001b[0m\" 404 -\n",
            "127.0.0.1 - - [09/Nov/2024 09:51:26] \"\u001b[33mGET /static/diabetes-favicon.ico?authuser=0 HTTP/1.1\u001b[0m\" 404 -\n"
          ]
        }
      ],
      "source": [
        "!python app.py"
      ]
    },
    {
      "cell_type": "code",
      "execution_count": null,
      "metadata": {
        "id": "bTW7-lnSIr_v"
      },
      "outputs": [],
      "source": []
    }
  ],
  "metadata": {
    "colab": {
      "provenance": []
    },
    "kernelspec": {
      "display_name": "Python 3",
      "name": "python3"
    },
    "language_info": {
      "name": "python"
    }
  },
  "nbformat": 4,
  "nbformat_minor": 0
}